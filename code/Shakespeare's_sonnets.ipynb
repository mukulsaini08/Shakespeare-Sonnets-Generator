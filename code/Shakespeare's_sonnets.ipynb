{
  "nbformat": 4,
  "nbformat_minor": 0,
  "metadata": {
    "colab": {
      "provenance": []
    },
    "kernelspec": {
      "name": "python3",
      "display_name": "Python 3"
    },
    "language_info": {
      "name": "python"
    }
  },
  "cells": [
    {
      "cell_type": "code",
      "execution_count": 1,
      "metadata": {
        "id": "eM0U3pBesgMn"
      },
      "outputs": [],
      "source": [
        "import numpy as np \n",
        "import matplotlib.pyplot as plt\n",
        "from tensorflow.keras.models import Sequential\n",
        "from tensorflow.keras.utils import to_categorical \n",
        "from tensorflow.keras.preprocessing.text import Tokenizer\n",
        "from tensorflow.keras.preprocessing.sequence import pad_sequences\n",
        "from tensorflow.keras.layers import Embedding, LSTM, Dense, Bidirectional"
      ]
    },
    {
      "cell_type": "code",
      "source": [
        "!gdown --id 108jAePKK4R3BVYBbYJZ32JWUwxeMg20K"
      ],
      "metadata": {
        "colab": {
          "base_uri": "https://localhost:8080/"
        },
        "id": "hwb_7UI-s__9",
        "outputId": "cbc0d98c-048f-4389-db88-42295d87c3f9"
      },
      "execution_count": 2,
      "outputs": [
        {
          "output_type": "stream",
          "name": "stdout",
          "text": [
            "/usr/local/lib/python3.10/dist-packages/gdown/cli.py:121: FutureWarning: Option `--id` was deprecated in version 4.3.1 and will be removed in 5.0. You don't need to pass it anymore to use a file ID.\n",
            "  warnings.warn(\n",
            "Downloading...\n",
            "From: https://drive.google.com/uc?id=108jAePKK4R3BVYBbYJZ32JWUwxeMg20K\n",
            "To: /content/sonnets.txt\n",
            "100% 93.6k/93.6k [00:00<00:00, 127MB/s]\n"
          ]
        }
      ]
    },
    {
      "cell_type": "code",
      "source": [
        "SONNETS_FILE = './sonnets.txt'\n",
        "\n",
        "with open('./sonnets.txt') as f:\n",
        "    data = f.read()\n",
        "\n",
        "corpus = data.lower().split(\"\\n\")\n",
        "\n",
        "print(f\"There are {len(corpus)} lines of sonnets\\n\")\n",
        "print(f\"The first 5 lines look like this:\\n\")\n",
        "for i in range(5):\n",
        "  print(corpus[i])"
      ],
      "metadata": {
        "colab": {
          "base_uri": "https://localhost:8080/"
        },
        "id": "B_NJrypZs6Hk",
        "outputId": "9b5069ac-bf16-47fb-af14-fb918ddbe5ee"
      },
      "execution_count": 3,
      "outputs": [
        {
          "output_type": "stream",
          "name": "stdout",
          "text": [
            "There are 2159 lines of sonnets\n",
            "\n",
            "The first 5 lines look like this:\n",
            "\n",
            "from fairest creatures we desire increase,\n",
            "that thereby beauty's rose might never die,\n",
            "but as the riper should by time decease,\n",
            "his tender heir might bear his memory:\n",
            "but thou, contracted to thine own bright eyes,\n"
          ]
        }
      ]
    },
    {
      "cell_type": "code",
      "source": [
        "tokenizer = Tokenizer()\n",
        "tokenizer.fit_on_texts(corpus)\n",
        "total_words = len(tokenizer.word_index) + 1"
      ],
      "metadata": {
        "id": "SLhOWwX8s6Oc"
      },
      "execution_count": 4,
      "outputs": []
    },
    {
      "cell_type": "code",
      "source": [
        "corpus[0]"
      ],
      "metadata": {
        "colab": {
          "base_uri": "https://localhost:8080/",
          "height": 36
        },
        "id": "Ncszs85As6wv",
        "outputId": "d96c2504-5a25-47c6-ae45-4136fb5f79d6"
      },
      "execution_count": 5,
      "outputs": [
        {
          "output_type": "execute_result",
          "data": {
            "text/plain": [
              "'from fairest creatures we desire increase,'"
            ],
            "application/vnd.google.colaboratory.intrinsic+json": {
              "type": "string"
            }
          },
          "metadata": {},
          "execution_count": 5
        }
      ]
    },
    {
      "cell_type": "code",
      "source": [
        "tokenizer.texts_to_sequences(corpus[0])"
      ],
      "metadata": {
        "colab": {
          "base_uri": "https://localhost:8080/"
        },
        "id": "XvbMtwjAs6zV",
        "outputId": "ea1e5c34-c80c-4dc8-fc0b-ce3314dead7d"
      },
      "execution_count": 6,
      "outputs": [
        {
          "output_type": "execute_result",
          "data": {
            "text/plain": [
              "[[],\n",
              " [],\n",
              " [58],\n",
              " [],\n",
              " [],\n",
              " [],\n",
              " [17],\n",
              " [6],\n",
              " [],\n",
              " [],\n",
              " [],\n",
              " [],\n",
              " [],\n",
              " [],\n",
              " [],\n",
              " [],\n",
              " [17],\n",
              " [],\n",
              " [],\n",
              " [],\n",
              " [],\n",
              " [],\n",
              " [],\n",
              " [],\n",
              " [],\n",
              " [],\n",
              " [],\n",
              " [],\n",
              " [],\n",
              " [6],\n",
              " [],\n",
              " [],\n",
              " [],\n",
              " [6],\n",
              " [],\n",
              " [],\n",
              " [],\n",
              " [],\n",
              " [17],\n",
              " [],\n",
              " [],\n",
              " []]"
            ]
          },
          "metadata": {},
          "execution_count": 6
        }
      ]
    },
    {
      "cell_type": "code",
      "source": [
        "tokenizer.texts_to_sequences([corpus[0]])"
      ],
      "metadata": {
        "colab": {
          "base_uri": "https://localhost:8080/"
        },
        "id": "OvBsg4A1s618",
        "outputId": "7e3e8d3e-0abf-4814-91b9-2fdd7431fbe7"
      },
      "execution_count": 7,
      "outputs": [
        {
          "output_type": "execute_result",
          "data": {
            "text/plain": [
              "[[34, 417, 877, 166, 213, 517]]"
            ]
          },
          "metadata": {},
          "execution_count": 7
        }
      ]
    },
    {
      "cell_type": "code",
      "source": [
        "tokenizer.texts_to_sequences([corpus[0]])[0]"
      ],
      "metadata": {
        "colab": {
          "base_uri": "https://localhost:8080/"
        },
        "id": "pwelBAKas64e",
        "outputId": "767ccc84-1f4b-4b08-d7c8-a23dbffc100f"
      },
      "execution_count": 8,
      "outputs": [
        {
          "output_type": "execute_result",
          "data": {
            "text/plain": [
              "[34, 417, 877, 166, 213, 517]"
            ]
          },
          "metadata": {},
          "execution_count": 8
        }
      ]
    },
    {
      "cell_type": "code",
      "source": [
        "def n_gram_seqs(corpus, tokenizer):\n",
        "\tinput_sequences = []\n",
        "\n",
        "\tfor line in corpus:\n",
        "\t\ttoken_list = tokenizer.texts_to_sequences([line])[0]\n",
        "\n",
        "\t\tfor i in range(1, len(token_list)):\n",
        "\t\t\tn_gram_sequence = token_list[:i+1]\n",
        "\t\t\tinput_sequences.append(n_gram_sequence)\n",
        "\t \n",
        "\treturn input_sequences"
      ],
      "metadata": {
        "id": "GR4YuxYPs677"
      },
      "execution_count": 23,
      "outputs": []
    },
    {
      "cell_type": "code",
      "source": [
        "first_example_sequence = n_gram_seqs([corpus[0]], tokenizer)\n",
        "\n",
        "print(\"n_gram sequences for first example look like this:\\n\")\n",
        "first_example_sequence"
      ],
      "metadata": {
        "colab": {
          "base_uri": "https://localhost:8080/"
        },
        "id": "zS6yS0Ugt1IV",
        "outputId": "88220896-da9e-4afd-f616-b97dd9c0db6e"
      },
      "execution_count": 24,
      "outputs": [
        {
          "output_type": "stream",
          "name": "stdout",
          "text": [
            "n_gram sequences for first example look like this:\n",
            "\n"
          ]
        },
        {
          "output_type": "execute_result",
          "data": {
            "text/plain": [
              "[[34, 417],\n",
              " [34, 417, 877],\n",
              " [34, 417, 877, 166],\n",
              " [34, 417, 877, 166, 213],\n",
              " [34, 417, 877, 166, 213, 517]]"
            ]
          },
          "metadata": {},
          "execution_count": 24
        }
      ]
    },
    {
      "cell_type": "code",
      "source": [
        "next_3_examples_sequence = n_gram_seqs(corpus[1:4], tokenizer)\n",
        "\n",
        "print(\"n_gram sequences for next 3 examples look like this:\\n\")\n",
        "next_3_examples_sequence"
      ],
      "metadata": {
        "colab": {
          "base_uri": "https://localhost:8080/"
        },
        "id": "GRcvBTndt5Z1",
        "outputId": "7ab42401-5904-4e5c-98b9-742aa4de60e2"
      },
      "execution_count": 25,
      "outputs": [
        {
          "output_type": "stream",
          "name": "stdout",
          "text": [
            "n_gram sequences for next 3 examples look like this:\n",
            "\n"
          ]
        },
        {
          "output_type": "execute_result",
          "data": {
            "text/plain": [
              "[[8, 878],\n",
              " [8, 878, 134],\n",
              " [8, 878, 134, 351],\n",
              " [8, 878, 134, 351, 102],\n",
              " [8, 878, 134, 351, 102, 156],\n",
              " [8, 878, 134, 351, 102, 156, 199],\n",
              " [16, 22],\n",
              " [16, 22, 2],\n",
              " [16, 22, 2, 879],\n",
              " [16, 22, 2, 879, 61],\n",
              " [16, 22, 2, 879, 61, 30],\n",
              " [16, 22, 2, 879, 61, 30, 48],\n",
              " [16, 22, 2, 879, 61, 30, 48, 634],\n",
              " [25, 311],\n",
              " [25, 311, 635],\n",
              " [25, 311, 635, 102],\n",
              " [25, 311, 635, 102, 200],\n",
              " [25, 311, 635, 102, 200, 25],\n",
              " [25, 311, 635, 102, 200, 25, 278]]"
            ]
          },
          "metadata": {},
          "execution_count": 25
        }
      ]
    },
    {
      "cell_type": "code",
      "source": [
        "input_sequences = n_gram_seqs(corpus, tokenizer)\n",
        "max_sequence_len = max([len(x) for x in input_sequences])\n",
        " \n",
        "\n",
        "print(f\"n_grams of input_sequences have length: {len(input_sequences)}\")\n",
        "print(f\"maximum length of sequences is: {max_sequence_len}\")"
      ],
      "metadata": {
        "colab": {
          "base_uri": "https://localhost:8080/"
        },
        "id": "alZCQvQ3t5co",
        "outputId": "702422ae-788d-4430-8e90-4333533d79f5"
      },
      "execution_count": 26,
      "outputs": [
        {
          "output_type": "stream",
          "name": "stdout",
          "text": [
            "n_grams of input_sequences have length: 15462\n",
            "maximum length of sequences is: 11\n"
          ]
        }
      ]
    },
    {
      "cell_type": "code",
      "source": [
        "def pad_seqs(input_sequences, maxlen):\n",
        "    padded_sequences = pad_sequences(input_sequences, maxlen=maxlen, padding='pre')\n",
        "    \n",
        "    return padded_sequences"
      ],
      "metadata": {
        "id": "Dy7zhGZ8t5e9"
      },
      "execution_count": 27,
      "outputs": []
    },
    {
      "cell_type": "code",
      "source": [
        "first_padded_seq = pad_seqs(first_example_sequence, len(first_example_sequence))\n",
        "first_padded_seq"
      ],
      "metadata": {
        "colab": {
          "base_uri": "https://localhost:8080/"
        },
        "id": "chiuclQat5hf",
        "outputId": "6333b8b5-e97e-4c67-8efb-7a6cbed86fd3"
      },
      "execution_count": 28,
      "outputs": [
        {
          "output_type": "execute_result",
          "data": {
            "text/plain": [
              "array([[  0,   0,   0,  34, 417],\n",
              "       [  0,   0,  34, 417, 877],\n",
              "       [  0,  34, 417, 877, 166],\n",
              "       [ 34, 417, 877, 166, 213],\n",
              "       [417, 877, 166, 213, 517]], dtype=int32)"
            ]
          },
          "metadata": {},
          "execution_count": 28
        }
      ]
    },
    {
      "cell_type": "code",
      "source": [
        "next_3_padded_seq = pad_seqs(next_3_examples_sequence, max([len(s) for s in next_3_examples_sequence]))\n",
        "next_3_padded_seq"
      ],
      "metadata": {
        "colab": {
          "base_uri": "https://localhost:8080/"
        },
        "id": "T1A_TEhft5kN",
        "outputId": "6311e6eb-3e76-4272-cdd6-96a469e81fb2"
      },
      "execution_count": 29,
      "outputs": [
        {
          "output_type": "execute_result",
          "data": {
            "text/plain": [
              "array([[  0,   0,   0,   0,   0,   0,   8, 878],\n",
              "       [  0,   0,   0,   0,   0,   8, 878, 134],\n",
              "       [  0,   0,   0,   0,   8, 878, 134, 351],\n",
              "       [  0,   0,   0,   8, 878, 134, 351, 102],\n",
              "       [  0,   0,   8, 878, 134, 351, 102, 156],\n",
              "       [  0,   8, 878, 134, 351, 102, 156, 199],\n",
              "       [  0,   0,   0,   0,   0,   0,  16,  22],\n",
              "       [  0,   0,   0,   0,   0,  16,  22,   2],\n",
              "       [  0,   0,   0,   0,  16,  22,   2, 879],\n",
              "       [  0,   0,   0,  16,  22,   2, 879,  61],\n",
              "       [  0,   0,  16,  22,   2, 879,  61,  30],\n",
              "       [  0,  16,  22,   2, 879,  61,  30,  48],\n",
              "       [ 16,  22,   2, 879,  61,  30,  48, 634],\n",
              "       [  0,   0,   0,   0,   0,   0,  25, 311],\n",
              "       [  0,   0,   0,   0,   0,  25, 311, 635],\n",
              "       [  0,   0,   0,   0,  25, 311, 635, 102],\n",
              "       [  0,   0,   0,  25, 311, 635, 102, 200],\n",
              "       [  0,   0,  25, 311, 635, 102, 200,  25],\n",
              "       [  0,  25, 311, 635, 102, 200,  25, 278]], dtype=int32)"
            ]
          },
          "metadata": {},
          "execution_count": 29
        }
      ]
    },
    {
      "cell_type": "code",
      "source": [
        "input_sequences = pad_seqs(input_sequences, max_sequence_len)\n",
        "\n",
        "print(f\"padded corpus has shape: {input_sequences.shape}\")"
      ],
      "metadata": {
        "colab": {
          "base_uri": "https://localhost:8080/"
        },
        "id": "JlnsI9XJvX11",
        "outputId": "e6204ec4-eccc-4ef9-cc5d-d182361b1e65"
      },
      "execution_count": 31,
      "outputs": [
        {
          "output_type": "stream",
          "name": "stdout",
          "text": [
            "padded corpus has shape: (15462, 11)\n"
          ]
        }
      ]
    },
    {
      "cell_type": "code",
      "source": [
        "def features_and_labels(input_sequences, total_words):\n",
        "\n",
        "    features = input_sequences[:,:-1]\n",
        "    labels = input_sequences[:,-1]\n",
        "    one_hot_labels = to_categorical(labels, num_classes=total_words)\n",
        "\n",
        "    return features, one_hot_labels"
      ],
      "metadata": {
        "id": "WUV1de2evX4X"
      },
      "execution_count": 32,
      "outputs": []
    },
    {
      "cell_type": "code",
      "source": [
        "first_features, first_labels = features_and_labels(first_padded_seq, total_words)\n",
        "\n",
        "print(f\"labels have shape: {first_labels.shape}\")\n",
        "print(\"\\nfeatures look like this:\\n\")\n",
        "first_features"
      ],
      "metadata": {
        "colab": {
          "base_uri": "https://localhost:8080/"
        },
        "id": "QJZ729uavX6d",
        "outputId": "b7f30e90-7949-457d-de73-3cb246df8a4a"
      },
      "execution_count": 33,
      "outputs": [
        {
          "output_type": "stream",
          "name": "stdout",
          "text": [
            "labels have shape: (5, 3211)\n",
            "\n",
            "features look like this:\n",
            "\n"
          ]
        },
        {
          "output_type": "execute_result",
          "data": {
            "text/plain": [
              "array([[  0,   0,   0,  34],\n",
              "       [  0,   0,  34, 417],\n",
              "       [  0,  34, 417, 877],\n",
              "       [ 34, 417, 877, 166],\n",
              "       [417, 877, 166, 213]], dtype=int32)"
            ]
          },
          "metadata": {},
          "execution_count": 33
        }
      ]
    },
    {
      "cell_type": "code",
      "source": [
        "features, labels = features_and_labels(input_sequences, total_words)\n",
        "\n",
        "print(f\"features have shape: {features.shape}\")\n",
        "print(f\"labels have shape: {labels.shape}\")"
      ],
      "metadata": {
        "colab": {
          "base_uri": "https://localhost:8080/"
        },
        "id": "qUVHXcLfvX97",
        "outputId": "ccf809ea-409b-4e69-dbc4-285b4bf0ffb6"
      },
      "execution_count": 34,
      "outputs": [
        {
          "output_type": "stream",
          "name": "stdout",
          "text": [
            "features have shape: (15462, 10)\n",
            "labels have shape: (15462, 3211)\n"
          ]
        }
      ]
    },
    {
      "cell_type": "code",
      "source": [
        "def create_model(total_words, max_sequence_len):\n",
        "    \n",
        "    model = Sequential()\n",
        "    model.add(Embedding(total_words, 100, input_length=max_sequence_len-1))\n",
        "    model.add(Bidirectional(LSTM(150)))\n",
        "    model.add(Dense(total_words, activation='softmax'))\n",
        "\n",
        "    model.compile(loss='categorical_crossentropy',\n",
        "                  optimizer='adam',\n",
        "                  metrics=['accuracy'])\n",
        "\n",
        "    return model"
      ],
      "metadata": {
        "id": "RJ0BTUo-vq7O"
      },
      "execution_count": 35,
      "outputs": []
    },
    {
      "cell_type": "code",
      "source": [
        "model = create_model(total_words, max_sequence_len)\n",
        "\n",
        "history = model.fit(features, labels, epochs=50, verbose=1)"
      ],
      "metadata": {
        "colab": {
          "base_uri": "https://localhost:8080/"
        },
        "id": "wfT9u2povzpU",
        "outputId": "3cac6154-97ad-45c6-9818-111bbb91fff9"
      },
      "execution_count": 36,
      "outputs": [
        {
          "output_type": "stream",
          "name": "stdout",
          "text": [
            "Epoch 1/50\n",
            "484/484 [==============================] - 40s 74ms/step - loss: 6.8889 - accuracy: 0.0219\n",
            "Epoch 2/50\n",
            "484/484 [==============================] - 41s 85ms/step - loss: 6.4484 - accuracy: 0.0326\n",
            "Epoch 3/50\n",
            "484/484 [==============================] - 31s 64ms/step - loss: 6.2203 - accuracy: 0.0417\n",
            "Epoch 4/50\n",
            "484/484 [==============================] - 30s 62ms/step - loss: 5.9572 - accuracy: 0.0491\n",
            "Epoch 5/50\n",
            "484/484 [==============================] - 30s 62ms/step - loss: 5.6350 - accuracy: 0.0619\n",
            "Epoch 6/50\n",
            "484/484 [==============================] - 31s 64ms/step - loss: 5.2591 - accuracy: 0.0794\n",
            "Epoch 7/50\n",
            "484/484 [==============================] - 30s 61ms/step - loss: 4.8590 - accuracy: 0.1006\n",
            "Epoch 8/50\n",
            "484/484 [==============================] - 32s 66ms/step - loss: 4.4474 - accuracy: 0.1325\n",
            "Epoch 9/50\n",
            "484/484 [==============================] - 30s 62ms/step - loss: 4.0221 - accuracy: 0.1885\n",
            "Epoch 10/50\n",
            "484/484 [==============================] - 30s 61ms/step - loss: 3.6058 - accuracy: 0.2579\n",
            "Epoch 11/50\n",
            "484/484 [==============================] - 31s 65ms/step - loss: 3.2115 - accuracy: 0.3299\n",
            "Epoch 12/50\n",
            "484/484 [==============================] - 30s 62ms/step - loss: 2.8671 - accuracy: 0.3959\n",
            "Epoch 13/50\n",
            "484/484 [==============================] - 31s 64ms/step - loss: 2.5552 - accuracy: 0.4574\n",
            "Epoch 14/50\n",
            "484/484 [==============================] - 30s 63ms/step - loss: 2.2976 - accuracy: 0.5125\n",
            "Epoch 15/50\n",
            "484/484 [==============================] - 30s 61ms/step - loss: 2.0627 - accuracy: 0.5606\n",
            "Epoch 16/50\n",
            "484/484 [==============================] - 31s 65ms/step - loss: 1.8685 - accuracy: 0.6026\n",
            "Epoch 17/50\n",
            "484/484 [==============================] - 30s 62ms/step - loss: 1.6860 - accuracy: 0.6407\n",
            "Epoch 18/50\n",
            "484/484 [==============================] - 31s 63ms/step - loss: 1.5316 - accuracy: 0.6757\n",
            "Epoch 19/50\n",
            "484/484 [==============================] - 31s 63ms/step - loss: 1.3901 - accuracy: 0.7090\n",
            "Epoch 20/50\n",
            "484/484 [==============================] - 30s 62ms/step - loss: 1.2711 - accuracy: 0.7335\n",
            "Epoch 21/50\n",
            "484/484 [==============================] - 31s 64ms/step - loss: 1.1682 - accuracy: 0.7569\n",
            "Epoch 22/50\n",
            "484/484 [==============================] - 30s 62ms/step - loss: 1.0766 - accuracy: 0.7740\n",
            "Epoch 23/50\n",
            "484/484 [==============================] - 30s 62ms/step - loss: 0.9969 - accuracy: 0.7890\n",
            "Epoch 24/50\n",
            "484/484 [==============================] - 31s 65ms/step - loss: 0.9344 - accuracy: 0.8020\n",
            "Epoch 25/50\n",
            "484/484 [==============================] - 30s 61ms/step - loss: 0.8710 - accuracy: 0.8128\n",
            "Epoch 26/50\n",
            "484/484 [==============================] - 31s 65ms/step - loss: 0.8257 - accuracy: 0.8214\n",
            "Epoch 27/50\n",
            "484/484 [==============================] - 30s 61ms/step - loss: 0.7837 - accuracy: 0.8264\n",
            "Epoch 28/50\n",
            "484/484 [==============================] - 30s 62ms/step - loss: 0.7546 - accuracy: 0.8313\n",
            "Epoch 29/50\n",
            "484/484 [==============================] - 31s 64ms/step - loss: 0.7210 - accuracy: 0.8373\n",
            "Epoch 30/50\n",
            "484/484 [==============================] - 30s 61ms/step - loss: 0.7020 - accuracy: 0.8390\n",
            "Epoch 31/50\n",
            "484/484 [==============================] - 30s 61ms/step - loss: 0.6771 - accuracy: 0.8402\n",
            "Epoch 32/50\n",
            "484/484 [==============================] - 31s 63ms/step - loss: 0.6646 - accuracy: 0.8419\n",
            "Epoch 33/50\n",
            "484/484 [==============================] - 30s 62ms/step - loss: 0.6523 - accuracy: 0.8437\n",
            "Epoch 34/50\n",
            "484/484 [==============================] - 31s 64ms/step - loss: 0.6367 - accuracy: 0.8461\n",
            "Epoch 35/50\n",
            "484/484 [==============================] - 30s 62ms/step - loss: 0.6271 - accuracy: 0.8463\n",
            "Epoch 36/50\n",
            "484/484 [==============================] - 29s 61ms/step - loss: 0.6216 - accuracy: 0.8466\n",
            "Epoch 37/50\n",
            "484/484 [==============================] - 31s 64ms/step - loss: 0.6069 - accuracy: 0.8497\n",
            "Epoch 38/50\n",
            "484/484 [==============================] - 30s 62ms/step - loss: 0.6030 - accuracy: 0.8480\n",
            "Epoch 39/50\n",
            "484/484 [==============================] - 30s 61ms/step - loss: 0.5992 - accuracy: 0.8474\n",
            "Epoch 40/50\n",
            "484/484 [==============================] - 31s 64ms/step - loss: 0.5988 - accuracy: 0.8482\n",
            "Epoch 41/50\n",
            "484/484 [==============================] - 30s 61ms/step - loss: 0.5946 - accuracy: 0.8470\n",
            "Epoch 42/50\n",
            "484/484 [==============================] - 30s 62ms/step - loss: 0.5872 - accuracy: 0.8482\n",
            "Epoch 43/50\n",
            "484/484 [==============================] - 31s 63ms/step - loss: 0.5816 - accuracy: 0.8495\n",
            "Epoch 44/50\n",
            "484/484 [==============================] - 30s 62ms/step - loss: 0.5790 - accuracy: 0.8482\n",
            "Epoch 45/50\n",
            "484/484 [==============================] - 31s 64ms/step - loss: 0.5765 - accuracy: 0.8485\n",
            "Epoch 46/50\n",
            "484/484 [==============================] - 30s 62ms/step - loss: 0.5741 - accuracy: 0.8478\n",
            "Epoch 47/50\n",
            "484/484 [==============================] - 30s 62ms/step - loss: 0.5737 - accuracy: 0.8484\n",
            "Epoch 48/50\n",
            "484/484 [==============================] - 31s 64ms/step - loss: 0.5712 - accuracy: 0.8471\n",
            "Epoch 49/50\n",
            "484/484 [==============================] - 30s 62ms/step - loss: 0.5664 - accuracy: 0.8480\n",
            "Epoch 50/50\n",
            "484/484 [==============================] - 31s 64ms/step - loss: 0.5591 - accuracy: 0.8481\n"
          ]
        }
      ]
    },
    {
      "cell_type": "code",
      "source": [
        "acc = history.history['accuracy']\n",
        "loss = history.history['loss']\n",
        "\n",
        "epochs = range(len(acc))\n",
        "\n",
        "plt.plot(epochs, acc, 'b', label='Training accuracy')\n",
        "plt.title('Training accuracy')\n",
        "\n",
        "plt.figure()\n",
        "\n",
        "plt.plot(epochs, loss, 'b', label='Training Loss')\n",
        "plt.title('Training loss')\n",
        "plt.legend()\n",
        "\n",
        "plt.show()"
      ],
      "metadata": {
        "colab": {
          "base_uri": "https://localhost:8080/",
          "height": 887
        },
        "id": "VCW7ensivzr5",
        "outputId": "54ae2b60-858f-4854-c3ae-cec2e805d2b2"
      },
      "execution_count": 37,
      "outputs": [
        {
          "output_type": "display_data",
          "data": {
            "text/plain": [
              "<Figure size 640x480 with 1 Axes>"
            ],
            "image/png": "[encoded data removed]"
          },
          "metadata": {}
        },
        {
          "output_type": "display_data",
          "data": {
            "text/plain": [
              "<Figure size 640x480 with 1 Axes>"
            ],
            "image/png": "[encoded data removed]"
          },
          "metadata": {}
        }
      ]
    },
    {
      "cell_type": "code",
      "source": [
        "seed_text = \"Help me Obi Wan Kenobi, you're my only hope\"\n",
        "next_words = 100\n",
        "  \n",
        "for _ in range(next_words):\n",
        "\n",
        "\ttoken_list = tokenizer.texts_to_sequences([seed_text])[0]\n",
        "\n",
        "\ttoken_list = pad_sequences([token_list], maxlen=max_sequence_len-1, padding='pre')\n",
        "\n",
        "\tpredicted = model.predict(token_list, verbose=0)\n",
        "\n",
        "\tpredicted = np.argmax(predicted, axis=-1).item()\n",
        "\n",
        "\toutput_word = tokenizer.index_word[predicted]\n",
        "\n",
        "\tseed_text += \" \" + output_word\n",
        "\n",
        "print(seed_text)"
      ],
      "metadata": {
        "colab": {
          "base_uri": "https://localhost:8080/"
        },
        "id": "7lYLmXtZvzvW",
        "outputId": "aa3d4e8c-aeb5-473f-9483-2b13ec1be39a"
      },
      "execution_count": 38,
      "outputs": [
        {
          "output_type": "stream",
          "name": "stdout",
          "text": [
            "Help me Obi Wan Kenobi, you're my only hope upon thee thee twain seen forth ' write to thee thee me write thee thee thy sight of mind true greater too gain of her 'will' ' ' me dearer bright ' on mind so gone bright thee bright true heart bright bright eye bright eye best shine eye bright thee joy import offences your parts of thee ' ' on me groan old groan doth that i am old old 'will 'will of heart heart name her 'will ' ' me so dead untrue untrue heart ' ' with thee remain lie so hate such me be young '\n"
          ]
        }
      ]
    }
  ]
}